{
 "cells": [
  {
   "cell_type": "markdown",
   "id": "characteristic-floor",
   "metadata": {},
   "source": [
    "# Neo4j"
   ]
  },
  {
   "cell_type": "code",
   "execution_count": 71,
   "id": "harmful-taxation",
   "metadata": {},
   "outputs": [],
   "source": [
    "!pip install neo4j\n",
    "!pip install py2neo"
   ]
  },
  {
   "cell_type": "code",
   "execution_count": 4,
   "id": "personal-explosion",
   "metadata": {},
   "outputs": [],
   "source": [
    "from neo4j import GraphDatabase\n",
    "driver = GraphDatabase.driver(uri=\"bolt://localhost:7687\")\n",
    "session = driver.session()"
   ]
  },
  {
   "cell_type": "code",
   "execution_count": 6,
   "id": "potential-profile",
   "metadata": {},
   "outputs": [
    {
     "name": "stdout",
     "output_type": "stream",
     "text": [
      "[<Record n=<Node id=0 labels=frozenset({'Shark'}) properties={'name': 'Great White'}>>, <Record n=<Node id=1 labels=frozenset({'Shark'}) properties={'name': 'Hammerhead'}>>, <Record n=<Node id=2 labels=frozenset({'Shark'}) properties={'name': 'Sammy'}>>, <Record n=<Node id=3 labels=frozenset({'Shark'}) properties={'name': 'Megalodon'}>>, <Record n=<Node id=4 labels=frozenset({'Author'}) properties={'name': 'C chandran'}>>, <Record n=<Node id=5 labels=frozenset({'Publication'}) properties={'doi': '1234'}>>]\n"
     ]
    }
   ],
   "source": [
    "q1 = \"MATCH (n) return (n)\"\n",
    "nodes = session.run(q1)\n",
    "print(list(nodes))"
   ]
  },
  {
   "cell_type": "code",
   "execution_count": 13,
   "id": "ignored-vinyl",
   "metadata": {},
   "outputs": [],
   "source": [
    "from pymongo import MongoClient\n",
    "client = MongoClient(\"mongodb://localhost:27017\")\n",
    "db = client[\"author_aug_pmids\"]\n",
    "author_db  = db[\"author_db\"]\n",
    "authors = author_db.find()"
   ]
  },
  {
   "cell_type": "code",
   "execution_count": 14,
   "id": "comprehensive-colon",
   "metadata": {},
   "outputs": [
    {
     "name": "stdout",
     "output_type": "stream",
     "text": [
      "{'_id': ObjectId('607730fef875de51e9b0483c'), 'name': 'Voula Velissariou', 'orcid_json': '', 'orcid_id': '', 'scholor_json': '', 'scholor_id': '', 'H_index': '', 'other_names': '', 'doi': ['10.1159/000511549']}\n"
     ]
    }
   ],
   "source": [
    "author_list = list(authors)\n",
    "print(author_list[0])"
   ]
  },
  {
   "cell_type": "code",
   "execution_count": 63,
   "id": "later-hawaii",
   "metadata": {},
   "outputs": [
    {
     "data": {
      "text/plain": [
       "'607730fef875de51e9b0483e'"
      ]
     },
     "execution_count": 63,
     "metadata": {},
     "output_type": "execute_result"
    }
   ],
   "source": [
    "str(author_list[2]['_id'])"
   ]
  },
  {
   "cell_type": "code",
   "execution_count": 66,
   "id": "mysterious-ownership",
   "metadata": {},
   "outputs": [],
   "source": []
  },
  {
   "cell_type": "code",
   "execution_count": 70,
   "id": "opened-player",
   "metadata": {},
   "outputs": [],
   "source": [
    "from py2neo import Graph\n",
    "import json\n",
    "graph = Graph()\n",
    "\n",
    "tx = graph.begin()\n",
    "i=0\n",
    "for author in author_list:\n",
    "    print(i)\n",
    "    i=i+1\n",
    "    orcid_json = json.dumps(author['orcid_json'])\n",
    "    scholor_json = json.dumps(author['scholor_json'])\n",
    "    \n",
    "    tx.run(\"CREATE (author:Author {id: $_id, name: $name,orcid_json:$orcid_json, orcid_id: $orcid_id,\\\n",
    "           scholor_json :$scholor_json,scholor_id : $scholor_id, H_index: $H_index, other_names: $other_names, \\\n",
    "           doi: $doi }) RETURN author\", _id=str(author['_id']), name = author['name'],orcid_json = orcid_json, \\\n",
    "          orcid_id = author['orcid_id'], scholor_json = scholor_json, scholor_id = author['scholor_id'],\\\n",
    "           H_index = author['H_index'],other_names = author[\"other_names\"],doi = author['doi'] )\n",
    "    if(i>99 and i%100==0):\n",
    "        tx.commit()\n",
    "        tx = graph.begin()\n",
    "tx.commit()\n"
   ]
  },
  {
   "cell_type": "code",
   "execution_count": null,
   "id": "incomplete-amber",
   "metadata": {},
   "outputs": [],
   "source": []
  }
 ],
 "metadata": {
  "kernelspec": {
   "display_name": "Python 3",
   "language": "python",
   "name": "python3"
  },
  "language_info": {
   "codemirror_mode": {
    "name": "ipython",
    "version": 3
   },
   "file_extension": ".py",
   "mimetype": "text/x-python",
   "name": "python",
   "nbconvert_exporter": "python",
   "pygments_lexer": "ipython3",
   "version": "3.8.5"
  }
 },
 "nbformat": 4,
 "nbformat_minor": 5
}
